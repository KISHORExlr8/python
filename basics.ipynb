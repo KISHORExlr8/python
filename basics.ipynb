{
 "cells": [
  {
   "cell_type": "code",
   "execution_count": 1,
   "id": "8669a3bf",
   "metadata": {},
   "outputs": [
    {
     "name": "stdout",
     "output_type": "stream",
     "text": [
      "Helloworld\n",
      "Helloworld 2022\n",
      "hello\n",
      "HELLO\n",
      "1\n",
      "jello\n"
     ]
    }
   ],
   "source": [
    "name = 'Hello'\n",
    "year = 2022\n",
    "print(name+ 'world')\n",
    "print(name+'world',year)\n",
    "print(name.lower())\n",
    "print(name.upper())\n",
    "print(name.index('e'))\n",
    "print(name.replace('H','j'))\n"
   ]
  },
  {
   "cell_type": "code",
   "execution_count": 2,
   "id": "e3827f37",
   "metadata": {},
   "outputs": [
    {
     "name": "stdout",
     "output_type": "stream",
     "text": [
      "101\n",
      "5\n",
      "0b1100100\n",
      "100\n",
      "123\n",
      "15.297058540778355\n"
     ]
    }
   ],
   "source": [
    "num = 100\n",
    "\n",
    "from math import*\n",
    "print(num+1)\n",
    "\n",
    "print(max(1,2,3,4,5))\n",
    "print(bin(num))\n",
    "print(abs(num))\n",
    "print(round(123.4))\n",
    "print(sqrt(234))\n"
   ]
  },
  {
   "cell_type": "code",
   "execution_count": 4,
   "id": "b37a8b78",
   "metadata": {},
   "outputs": [
    {
     "name": "stdout",
     "output_type": "stream",
     "text": [
      "Enter the name:tgdhgh\n",
      "Enter the age:89\n",
      "The name istgdhghand the age is 89\n"
     ]
    }
   ],
   "source": [
    "Name = input('Enter the name:')\n",
    "Age = int(input('Enter the age:'))\n",
    "print('The name is'+Name+'and the age is',Age)"
   ]
  },
  {
   "cell_type": "code",
   "execution_count": null,
   "id": "0193d50e",
   "metadata": {},
   "outputs": [],
   "source": [
    "list1 = ['Jan','Feb','Mar','Apr','May']\n",
    "print(list1[2])\n",
    "list1.append('June')\n",
    "list1.pop(1)\n",
    "list2 = [1,2,3,4,5]\n",
    "list1.extend(list2)\n",
    "print(list1)"
   ]
  },
  {
   "cell_type": "code",
   "execution_count": null,
   "id": "eaf03694",
   "metadata": {},
   "outputs": [],
   "source": [
    "def factorial(n):  \n",
    "   if n == 1:  \n",
    "       return n  \n",
    "   else:  \n",
    "       return n*factorial(n-1)   \n",
    "num = int(input(\"Enter a number: \"))  \n",
    "\n",
    "if num < 0:  \n",
    "   print(\"Not factorial\")  \n",
    "elif num == 0:  \n",
    "   print(\"The factorial is 1\")  \n",
    "else:  \n",
    "   print(\"The factorial of\",num,\"is\",factorial(num)) \n"
   ]
  }
 ],
 "metadata": {
  "kernelspec": {
   "display_name": "Python 3 (ipykernel)",
   "language": "python",
   "name": "python3"
  },
  "language_info": {
   "codemirror_mode": {
    "name": "ipython",
    "version": 3
   },
   "file_extension": ".py",
   "mimetype": "text/x-python",
   "name": "python",
   "nbconvert_exporter": "python",
   "pygments_lexer": "ipython3",
   "version": "3.9.12"
  }
 },
 "nbformat": 4,
 "nbformat_minor": 5
}
